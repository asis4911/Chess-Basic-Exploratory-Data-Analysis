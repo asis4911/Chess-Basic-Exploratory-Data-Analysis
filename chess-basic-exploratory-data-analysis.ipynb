{
 "cells": [
  {
   "cell_type": "code",
   "execution_count": 1,
   "id": "ab93bd41",
   "metadata": {
    "_cell_guid": "b1076dfc-b9ad-4769-8c92-a6c4dae69d19",
    "_uuid": "8f2839f25d086af736a60e9eeb907d3b93b6e0e5",
    "execution": {
     "iopub.execute_input": "2021-07-20T08:21:53.948386Z",
     "iopub.status.busy": "2021-07-20T08:21:53.947203Z",
     "iopub.status.idle": "2021-07-20T08:21:53.967348Z",
     "shell.execute_reply": "2021-07-20T08:21:53.968009Z",
     "shell.execute_reply.started": "2021-07-20T08:03:18.451253Z"
    },
    "papermill": {
     "duration": 0.048511,
     "end_time": "2021-07-20T08:21:53.968357",
     "exception": false,
     "start_time": "2021-07-20T08:21:53.919846",
     "status": "completed"
    },
    "tags": []
   },
   "outputs": [
    {
     "name": "stdout",
     "output_type": "stream",
     "text": [
      "/kaggle/input/chess/games.csv\n"
     ]
    }
   ],
   "source": [
    "# This Python 3 environment comes with many helpful analytics libraries installed\n",
    "# It is defined by the kaggle/python Docker image: https://github.com/kaggle/docker-python\n",
    "# For example, here's several helpful packages to load\n",
    "\n",
    "import numpy as np # linear algebra\n",
    "import pandas as pd # data processing, CSV file I/O (e.g. pd.read_csv)\n",
    "\n",
    "# Input data files are available in the read-only \"../input/\" directory\n",
    "# For example, running this (by clicking run or pressing Shift+Enter) will list all files under the input directory\n",
    "\n",
    "import os\n",
    "for dirname, _, filenames in os.walk('/kaggle/input'):\n",
    "    for filename in filenames:\n",
    "        print(os.path.join(dirname, filename))\n",
    "\n",
    "# You can write up to 20GB to the current directory (/kaggle/working/) that gets preserved as output when you create a version using \"Save & Run All\" \n",
    "# You can also write temporary files to /kaggle/temp/, but they won't be saved outside of the current session"
   ]
  },
  {
   "cell_type": "code",
   "execution_count": 2,
   "id": "ce822cd5",
   "metadata": {
    "execution": {
     "iopub.execute_input": "2021-07-20T08:21:54.019049Z",
     "iopub.status.busy": "2021-07-20T08:21:54.018335Z",
     "iopub.status.idle": "2021-07-20T08:21:54.953956Z",
     "shell.execute_reply": "2021-07-20T08:21:54.953328Z",
     "shell.execute_reply.started": "2021-07-20T08:03:18.477443Z"
    },
    "papermill": {
     "duration": 0.960868,
     "end_time": "2021-07-20T08:21:54.954136",
     "exception": false,
     "start_time": "2021-07-20T08:21:53.993268",
     "status": "completed"
    },
    "tags": []
   },
   "outputs": [],
   "source": [
    "import numpy as np\n",
    "import pandas as pd\n",
    "import matplotlib.pyplot as plt\n",
    "import seaborn as sns\n",
    "import matplotlib as mpl\n",
    "mpl.rcParams['figure.figsize'] = (8,6)\n",
    "mpl.rcParams['axes.grid'] = False"
   ]
  },
  {
   "cell_type": "code",
   "execution_count": 3,
   "id": "e9a54dd2",
   "metadata": {
    "execution": {
     "iopub.execute_input": "2021-07-20T08:21:55.014496Z",
     "iopub.status.busy": "2021-07-20T08:21:55.013767Z",
     "iopub.status.idle": "2021-07-20T08:21:55.287679Z",
     "shell.execute_reply": "2021-07-20T08:21:55.286837Z",
     "shell.execute_reply.started": "2021-07-20T08:03:19.514711Z"
    },
    "papermill": {
     "duration": 0.310242,
     "end_time": "2021-07-20T08:21:55.287839",
     "exception": false,
     "start_time": "2021-07-20T08:21:54.977597",
     "status": "completed"
    },
    "tags": []
   },
   "outputs": [],
   "source": [
    "df = pd.read_csv('/kaggle/input/chess/games.csv')"
   ]
  },
  {
   "cell_type": "code",
   "execution_count": 4,
   "id": "ca8b48f6",
   "metadata": {
    "execution": {
     "iopub.execute_input": "2021-07-20T08:21:55.343643Z",
     "iopub.status.busy": "2021-07-20T08:21:55.342985Z",
     "iopub.status.idle": "2021-07-20T08:21:55.370697Z",
     "shell.execute_reply": "2021-07-20T08:21:55.371161Z",
     "shell.execute_reply.started": "2021-07-20T08:03:19.792267Z"
    },
    "papermill": {
     "duration": 0.06144,
     "end_time": "2021-07-20T08:21:55.371337",
     "exception": false,
     "start_time": "2021-07-20T08:21:55.309897",
     "status": "completed"
    },
    "tags": []
   },
   "outputs": [
    {
     "data": {
      "text/html": [
       "<div>\n",
       "<style scoped>\n",
       "    .dataframe tbody tr th:only-of-type {\n",
       "        vertical-align: middle;\n",
       "    }\n",
       "\n",
       "    .dataframe tbody tr th {\n",
       "        vertical-align: top;\n",
       "    }\n",
       "\n",
       "    .dataframe thead th {\n",
       "        text-align: right;\n",
       "    }\n",
       "</style>\n",
       "<table border=\"1\" class=\"dataframe\">\n",
       "  <thead>\n",
       "    <tr style=\"text-align: right;\">\n",
       "      <th></th>\n",
       "      <th>id</th>\n",
       "      <th>rated</th>\n",
       "      <th>created_at</th>\n",
       "      <th>last_move_at</th>\n",
       "      <th>turns</th>\n",
       "      <th>victory_status</th>\n",
       "      <th>winner</th>\n",
       "      <th>increment_code</th>\n",
       "      <th>white_id</th>\n",
       "      <th>white_rating</th>\n",
       "      <th>black_id</th>\n",
       "      <th>black_rating</th>\n",
       "      <th>moves</th>\n",
       "      <th>opening_eco</th>\n",
       "      <th>opening_name</th>\n",
       "      <th>opening_ply</th>\n",
       "    </tr>\n",
       "  </thead>\n",
       "  <tbody>\n",
       "    <tr>\n",
       "      <th>0</th>\n",
       "      <td>TZJHLljE</td>\n",
       "      <td>False</td>\n",
       "      <td>1.504210e+12</td>\n",
       "      <td>1.504210e+12</td>\n",
       "      <td>13</td>\n",
       "      <td>outoftime</td>\n",
       "      <td>white</td>\n",
       "      <td>15+2</td>\n",
       "      <td>bourgris</td>\n",
       "      <td>1500</td>\n",
       "      <td>a-00</td>\n",
       "      <td>1191</td>\n",
       "      <td>d4 d5 c4 c6 cxd5 e6 dxe6 fxe6 Nf3 Bb4+ Nc3 Ba5...</td>\n",
       "      <td>D10</td>\n",
       "      <td>Slav Defense: Exchange Variation</td>\n",
       "      <td>5</td>\n",
       "    </tr>\n",
       "    <tr>\n",
       "      <th>1</th>\n",
       "      <td>l1NXvwaE</td>\n",
       "      <td>True</td>\n",
       "      <td>1.504130e+12</td>\n",
       "      <td>1.504130e+12</td>\n",
       "      <td>16</td>\n",
       "      <td>resign</td>\n",
       "      <td>black</td>\n",
       "      <td>5+10</td>\n",
       "      <td>a-00</td>\n",
       "      <td>1322</td>\n",
       "      <td>skinnerua</td>\n",
       "      <td>1261</td>\n",
       "      <td>d4 Nc6 e4 e5 f4 f6 dxe5 fxe5 fxe5 Nxe5 Qd4 Nc6...</td>\n",
       "      <td>B00</td>\n",
       "      <td>Nimzowitsch Defense: Kennedy Variation</td>\n",
       "      <td>4</td>\n",
       "    </tr>\n",
       "    <tr>\n",
       "      <th>2</th>\n",
       "      <td>mIICvQHh</td>\n",
       "      <td>True</td>\n",
       "      <td>1.504130e+12</td>\n",
       "      <td>1.504130e+12</td>\n",
       "      <td>61</td>\n",
       "      <td>mate</td>\n",
       "      <td>white</td>\n",
       "      <td>5+10</td>\n",
       "      <td>ischia</td>\n",
       "      <td>1496</td>\n",
       "      <td>a-00</td>\n",
       "      <td>1500</td>\n",
       "      <td>e4 e5 d3 d6 Be3 c6 Be2 b5 Nd2 a5 a4 c5 axb5 Nc...</td>\n",
       "      <td>C20</td>\n",
       "      <td>King's Pawn Game: Leonardis Variation</td>\n",
       "      <td>3</td>\n",
       "    </tr>\n",
       "  </tbody>\n",
       "</table>\n",
       "</div>"
      ],
      "text/plain": [
       "         id  rated    created_at  last_move_at  turns victory_status winner  \\\n",
       "0  TZJHLljE  False  1.504210e+12  1.504210e+12     13      outoftime  white   \n",
       "1  l1NXvwaE   True  1.504130e+12  1.504130e+12     16         resign  black   \n",
       "2  mIICvQHh   True  1.504130e+12  1.504130e+12     61           mate  white   \n",
       "\n",
       "  increment_code  white_id  white_rating   black_id  black_rating  \\\n",
       "0           15+2  bourgris          1500       a-00          1191   \n",
       "1           5+10      a-00          1322  skinnerua          1261   \n",
       "2           5+10    ischia          1496       a-00          1500   \n",
       "\n",
       "                                               moves opening_eco  \\\n",
       "0  d4 d5 c4 c6 cxd5 e6 dxe6 fxe6 Nf3 Bb4+ Nc3 Ba5...         D10   \n",
       "1  d4 Nc6 e4 e5 f4 f6 dxe5 fxe5 fxe5 Nxe5 Qd4 Nc6...         B00   \n",
       "2  e4 e5 d3 d6 Be3 c6 Be2 b5 Nd2 a5 a4 c5 axb5 Nc...         C20   \n",
       "\n",
       "                             opening_name  opening_ply  \n",
       "0        Slav Defense: Exchange Variation            5  \n",
       "1  Nimzowitsch Defense: Kennedy Variation            4  \n",
       "2   King's Pawn Game: Leonardis Variation            3  "
      ]
     },
     "execution_count": 4,
     "metadata": {},
     "output_type": "execute_result"
    }
   ],
   "source": [
    "df.head(3)"
   ]
  },
  {
   "cell_type": "code",
   "execution_count": 5,
   "id": "152517e9",
   "metadata": {
    "execution": {
     "iopub.execute_input": "2021-07-20T08:21:55.427200Z",
     "iopub.status.busy": "2021-07-20T08:21:55.426544Z",
     "iopub.status.idle": "2021-07-20T08:21:55.458704Z",
     "shell.execute_reply": "2021-07-20T08:21:55.459290Z",
     "shell.execute_reply.started": "2021-07-20T08:03:19.832602Z"
    },
    "papermill": {
     "duration": 0.065603,
     "end_time": "2021-07-20T08:21:55.459482",
     "exception": false,
     "start_time": "2021-07-20T08:21:55.393879",
     "status": "completed"
    },
    "tags": []
   },
   "outputs": [
    {
     "data": {
      "text/html": [
       "<div>\n",
       "<style scoped>\n",
       "    .dataframe tbody tr th:only-of-type {\n",
       "        vertical-align: middle;\n",
       "    }\n",
       "\n",
       "    .dataframe tbody tr th {\n",
       "        vertical-align: top;\n",
       "    }\n",
       "\n",
       "    .dataframe thead th {\n",
       "        text-align: right;\n",
       "    }\n",
       "</style>\n",
       "<table border=\"1\" class=\"dataframe\">\n",
       "  <thead>\n",
       "    <tr style=\"text-align: right;\">\n",
       "      <th></th>\n",
       "      <th>created_at</th>\n",
       "      <th>last_move_at</th>\n",
       "      <th>turns</th>\n",
       "      <th>white_rating</th>\n",
       "      <th>black_rating</th>\n",
       "      <th>opening_ply</th>\n",
       "    </tr>\n",
       "  </thead>\n",
       "  <tbody>\n",
       "    <tr>\n",
       "      <th>count</th>\n",
       "      <td>2.005800e+04</td>\n",
       "      <td>2.005800e+04</td>\n",
       "      <td>20058.000000</td>\n",
       "      <td>20058.000000</td>\n",
       "      <td>20058.000000</td>\n",
       "      <td>20058.000000</td>\n",
       "    </tr>\n",
       "    <tr>\n",
       "      <th>mean</th>\n",
       "      <td>1.483617e+12</td>\n",
       "      <td>1.483618e+12</td>\n",
       "      <td>60.465999</td>\n",
       "      <td>1596.631868</td>\n",
       "      <td>1588.831987</td>\n",
       "      <td>4.816981</td>\n",
       "    </tr>\n",
       "    <tr>\n",
       "      <th>std</th>\n",
       "      <td>2.850151e+10</td>\n",
       "      <td>2.850140e+10</td>\n",
       "      <td>33.570585</td>\n",
       "      <td>291.253376</td>\n",
       "      <td>291.036126</td>\n",
       "      <td>2.797152</td>\n",
       "    </tr>\n",
       "    <tr>\n",
       "      <th>min</th>\n",
       "      <td>1.376772e+12</td>\n",
       "      <td>1.376772e+12</td>\n",
       "      <td>1.000000</td>\n",
       "      <td>784.000000</td>\n",
       "      <td>789.000000</td>\n",
       "      <td>1.000000</td>\n",
       "    </tr>\n",
       "    <tr>\n",
       "      <th>25%</th>\n",
       "      <td>1.477548e+12</td>\n",
       "      <td>1.477548e+12</td>\n",
       "      <td>37.000000</td>\n",
       "      <td>1398.000000</td>\n",
       "      <td>1391.000000</td>\n",
       "      <td>3.000000</td>\n",
       "    </tr>\n",
       "    <tr>\n",
       "      <th>50%</th>\n",
       "      <td>1.496010e+12</td>\n",
       "      <td>1.496010e+12</td>\n",
       "      <td>55.000000</td>\n",
       "      <td>1567.000000</td>\n",
       "      <td>1562.000000</td>\n",
       "      <td>4.000000</td>\n",
       "    </tr>\n",
       "    <tr>\n",
       "      <th>75%</th>\n",
       "      <td>1.503170e+12</td>\n",
       "      <td>1.503170e+12</td>\n",
       "      <td>79.000000</td>\n",
       "      <td>1793.000000</td>\n",
       "      <td>1784.000000</td>\n",
       "      <td>6.000000</td>\n",
       "    </tr>\n",
       "    <tr>\n",
       "      <th>max</th>\n",
       "      <td>1.504493e+12</td>\n",
       "      <td>1.504494e+12</td>\n",
       "      <td>349.000000</td>\n",
       "      <td>2700.000000</td>\n",
       "      <td>2723.000000</td>\n",
       "      <td>28.000000</td>\n",
       "    </tr>\n",
       "  </tbody>\n",
       "</table>\n",
       "</div>"
      ],
      "text/plain": [
       "         created_at  last_move_at         turns  white_rating  black_rating  \\\n",
       "count  2.005800e+04  2.005800e+04  20058.000000  20058.000000  20058.000000   \n",
       "mean   1.483617e+12  1.483618e+12     60.465999   1596.631868   1588.831987   \n",
       "std    2.850151e+10  2.850140e+10     33.570585    291.253376    291.036126   \n",
       "min    1.376772e+12  1.376772e+12      1.000000    784.000000    789.000000   \n",
       "25%    1.477548e+12  1.477548e+12     37.000000   1398.000000   1391.000000   \n",
       "50%    1.496010e+12  1.496010e+12     55.000000   1567.000000   1562.000000   \n",
       "75%    1.503170e+12  1.503170e+12     79.000000   1793.000000   1784.000000   \n",
       "max    1.504493e+12  1.504494e+12    349.000000   2700.000000   2723.000000   \n",
       "\n",
       "        opening_ply  \n",
       "count  20058.000000  \n",
       "mean       4.816981  \n",
       "std        2.797152  \n",
       "min        1.000000  \n",
       "25%        3.000000  \n",
       "50%        4.000000  \n",
       "75%        6.000000  \n",
       "max       28.000000  "
      ]
     },
     "execution_count": 5,
     "metadata": {},
     "output_type": "execute_result"
    }
   ],
   "source": [
    "df.describe()"
   ]
  },
  {
   "cell_type": "code",
   "execution_count": 6,
   "id": "eea4854b",
   "metadata": {
    "execution": {
     "iopub.execute_input": "2021-07-20T08:21:55.508214Z",
     "iopub.status.busy": "2021-07-20T08:21:55.507614Z",
     "iopub.status.idle": "2021-07-20T08:21:55.549050Z",
     "shell.execute_reply": "2021-07-20T08:21:55.548388Z",
     "shell.execute_reply.started": "2021-07-20T08:03:19.874685Z"
    },
    "papermill": {
     "duration": 0.066984,
     "end_time": "2021-07-20T08:21:55.549198",
     "exception": false,
     "start_time": "2021-07-20T08:21:55.482214",
     "status": "completed"
    },
    "tags": []
   },
   "outputs": [
    {
     "name": "stdout",
     "output_type": "stream",
     "text": [
      "<class 'pandas.core.frame.DataFrame'>\n",
      "RangeIndex: 20058 entries, 0 to 20057\n",
      "Data columns (total 16 columns):\n",
      " #   Column          Non-Null Count  Dtype  \n",
      "---  ------          --------------  -----  \n",
      " 0   id              20058 non-null  object \n",
      " 1   rated           20058 non-null  bool   \n",
      " 2   created_at      20058 non-null  float64\n",
      " 3   last_move_at    20058 non-null  float64\n",
      " 4   turns           20058 non-null  int64  \n",
      " 5   victory_status  20058 non-null  object \n",
      " 6   winner          20058 non-null  object \n",
      " 7   increment_code  20058 non-null  object \n",
      " 8   white_id        20058 non-null  object \n",
      " 9   white_rating    20058 non-null  int64  \n",
      " 10  black_id        20058 non-null  object \n",
      " 11  black_rating    20058 non-null  int64  \n",
      " 12  moves           20058 non-null  object \n",
      " 13  opening_eco     20058 non-null  object \n",
      " 14  opening_name    20058 non-null  object \n",
      " 15  opening_ply     20058 non-null  int64  \n",
      "dtypes: bool(1), float64(2), int64(4), object(9)\n",
      "memory usage: 2.3+ MB\n"
     ]
    }
   ],
   "source": [
    "df.info()"
   ]
  },
  {
   "cell_type": "markdown",
   "id": "d82113c5",
   "metadata": {
    "papermill": {
     "duration": 0.022745,
     "end_time": "2021-07-20T08:21:55.595136",
     "exception": false,
     "start_time": "2021-07-20T08:21:55.572391",
     "status": "completed"
    },
    "tags": []
   },
   "source": [
    "### We Dont have any Null Values"
   ]
  },
  {
   "cell_type": "code",
   "execution_count": 7,
   "id": "89ba9f02",
   "metadata": {
    "execution": {
     "iopub.execute_input": "2021-07-20T08:21:55.649030Z",
     "iopub.status.busy": "2021-07-20T08:21:55.648262Z",
     "iopub.status.idle": "2021-07-20T08:21:56.114889Z",
     "shell.execute_reply": "2021-07-20T08:21:56.115434Z",
     "shell.execute_reply.started": "2021-07-20T08:03:19.913730Z"
    },
    "papermill": {
     "duration": 0.497321,
     "end_time": "2021-07-20T08:21:56.115656",
     "exception": false,
     "start_time": "2021-07-20T08:21:55.618335",
     "status": "completed"
    },
    "tags": []
   },
   "outputs": [
    {
     "data": {
      "text/plain": [
       "<AxesSubplot:xlabel='turns', ylabel='Count'>"
      ]
     },
     "execution_count": 7,
     "metadata": {},
     "output_type": "execute_result"
    },
    {
     "data": {
      "image/png": "[encoded data removed]",
      "text/plain": [
       "<Figure size 576x432 with 1 Axes>"
      ]
     },
     "metadata": {
      "needs_background": "light"
     },
     "output_type": "display_data"
    }
   ],
   "source": [
    "sns.histplot(x='turns',data=df)"
   ]
  },
  {
   "cell_type": "markdown",
   "id": "38fac0bb",
   "metadata": {
    "execution": {
     "iopub.execute_input": "2021-07-15T14:35:55.411423Z",
     "iopub.status.busy": "2021-07-15T14:35:55.411113Z",
     "iopub.status.idle": "2021-07-15T14:35:55.414915Z",
     "shell.execute_reply": "2021-07-15T14:35:55.414029Z",
     "shell.execute_reply.started": "2021-07-15T14:35:55.411397Z"
    },
    "papermill": {
     "duration": 0.024629,
     "end_time": "2021-07-20T08:21:56.166900",
     "exception": false,
     "start_time": "2021-07-20T08:21:56.142271",
     "status": "completed"
    },
    "tags": []
   },
   "source": [
    "### *From the above histogram we can say that turns in the game is normally distributed, but left skewed and rom the above plot we can also say that the mean of the turns lies between 60 to 62*"
   ]
  },
  {
   "cell_type": "code",
   "execution_count": 8,
   "id": "361cf466",
   "metadata": {
    "execution": {
     "iopub.execute_input": "2021-07-20T08:21:56.221771Z",
     "iopub.status.busy": "2021-07-20T08:21:56.220964Z",
     "iopub.status.idle": "2021-07-20T08:21:56.224310Z",
     "shell.execute_reply": "2021-07-20T08:21:56.224895Z",
     "shell.execute_reply.started": "2021-07-20T08:03:20.407843Z"
    },
    "papermill": {
     "duration": 0.033648,
     "end_time": "2021-07-20T08:21:56.225102",
     "exception": false,
     "start_time": "2021-07-20T08:21:56.191454",
     "status": "completed"
    },
    "tags": []
   },
   "outputs": [
    {
     "name": "stdout",
     "output_type": "stream",
     "text": [
      "Mean ::  60.46599860404826\n",
      "Median ::  55.0\n"
     ]
    }
   ],
   "source": [
    "print(\"Mean :: \",df['turns'].mean())\n",
    "print(\"Median :: \",df['turns'].median())"
   ]
  },
  {
   "cell_type": "code",
   "execution_count": 9,
   "id": "51e93c3f",
   "metadata": {
    "execution": {
     "iopub.execute_input": "2021-07-20T08:21:56.279349Z",
     "iopub.status.busy": "2021-07-20T08:21:56.278493Z",
     "iopub.status.idle": "2021-07-20T08:21:56.446221Z",
     "shell.execute_reply": "2021-07-20T08:21:56.445366Z",
     "shell.execute_reply.started": "2021-07-20T08:03:20.416708Z"
    },
    "papermill": {
     "duration": 0.195571,
     "end_time": "2021-07-20T08:21:56.446398",
     "exception": false,
     "start_time": "2021-07-20T08:21:56.250827",
     "status": "completed"
    },
    "tags": []
   },
   "outputs": [
    {
     "data": {
      "text/plain": [
       "<AxesSubplot:xlabel='victory_status', ylabel='count'>"
      ]
     },
     "execution_count": 9,
     "metadata": {},
     "output_type": "execute_result"
    },
    {
     "data": {
      "image/png": "[encoded data removed]",
      "text/plain": [
       "<Figure size 576x432 with 1 Axes>"
      ]
     },
     "metadata": {
      "needs_background": "light"
     },
     "output_type": "display_data"
    }
   ],
   "source": [
    "sns.countplot(x='victory_status',data=df,order=df['victory_status'].value_counts().index)"
   ]
  },
  {
   "cell_type": "markdown",
   "id": "86ab1988",
   "metadata": {
    "execution": {
     "iopub.execute_input": "2021-07-15T14:45:19.164137Z",
     "iopub.status.busy": "2021-07-15T14:45:19.163647Z",
     "iopub.status.idle": "2021-07-15T14:45:19.169695Z",
     "shell.execute_reply": "2021-07-15T14:45:19.167476Z",
     "shell.execute_reply.started": "2021-07-15T14:45:19.164076Z"
    },
    "papermill": {
     "duration": 0.025649,
     "end_time": "2021-07-20T08:21:56.498257",
     "exception": false,
     "start_time": "2021-07-20T08:21:56.472608",
     "status": "completed"
    },
    "tags": []
   },
   "source": [
    "### *Here we can observe that the sum of 'resign' is much more greater than other categories, May be the reason is to start a game with the active player instead of waiting for another player*"
   ]
  },
  {
   "cell_type": "code",
   "execution_count": 10,
   "id": "65587788",
   "metadata": {
    "execution": {
     "iopub.execute_input": "2021-07-20T08:21:56.575103Z",
     "iopub.status.busy": "2021-07-20T08:21:56.560960Z",
     "iopub.status.idle": "2021-07-20T08:21:56.725286Z",
     "shell.execute_reply": "2021-07-20T08:21:56.725928Z",
     "shell.execute_reply.started": "2021-07-20T08:03:20.617477Z"
    },
    "papermill": {
     "duration": 0.201458,
     "end_time": "2021-07-20T08:21:56.726139",
     "exception": false,
     "start_time": "2021-07-20T08:21:56.524681",
     "status": "completed"
    },
    "tags": []
   },
   "outputs": [
    {
     "data": {
      "text/plain": [
       "<AxesSubplot:xlabel='winner', ylabel='count'>"
      ]
     },
     "execution_count": 10,
     "metadata": {},
     "output_type": "execute_result"
    },
    {
     "data": {
      "image/png": "[encoded data removed]",
      "text/plain": [
       "<Figure size 576x432 with 1 Axes>"
      ]
     },
     "metadata": {
      "needs_background": "light"
     },
     "output_type": "display_data"
    }
   ],
   "source": [
    "sns.countplot(x='winner',data=df,order=df['winner'].value_counts().index)"
   ]
  },
  {
   "cell_type": "markdown",
   "id": "00ac8215",
   "metadata": {
    "papermill": {
     "duration": 0.027267,
     "end_time": "2021-07-20T08:21:56.781893",
     "exception": false,
     "start_time": "2021-07-20T08:21:56.754626",
     "status": "completed"
    },
    "tags": []
   },
   "source": [
    "### *Here 'White' is the winner, As we all know there is advantage in chess the white player moves the first chance, So may be there is some relation between the first move and the winner.*"
   ]
  },
  {
   "cell_type": "markdown",
   "id": "c0fd6cc7",
   "metadata": {
    "execution": {
     "iopub.execute_input": "2021-07-15T14:54:58.415714Z",
     "iopub.status.busy": "2021-07-15T14:54:58.415416Z",
     "iopub.status.idle": "2021-07-15T14:54:58.432646Z",
     "shell.execute_reply": "2021-07-15T14:54:58.431999Z",
     "shell.execute_reply.started": "2021-07-15T14:54:58.415688Z"
    },
    "papermill": {
     "duration": 0.027798,
     "end_time": "2021-07-20T08:21:56.838387",
     "exception": false,
     "start_time": "2021-07-20T08:21:56.810589",
     "status": "completed"
    },
    "tags": []
   },
   "source": [
    "## Increment code\n",
    "\n",
    "### *This variable controls the timer that the game is played under. In timed chess games (most online chess games are timed, for obvious reasons) each player is afforded a time basis (10 minutes, 15 minutes, etc.) awarded at the beginning of the game and an increment (15 seconds etc.) awarded every time a turn starts. If the player runs the clock out, they lose the game.*\n",
    "\n",
    "### *This field is populated by strings in the form 15+2. The first number, 15, is the time basis in minutes; the second number, 2, is the increment in seconds.*"
   ]
  },
  {
   "cell_type": "code",
   "execution_count": 11,
   "id": "ca0af877",
   "metadata": {
    "execution": {
     "iopub.execute_input": "2021-07-20T08:21:56.914631Z",
     "iopub.status.busy": "2021-07-20T08:21:56.909362Z",
     "iopub.status.idle": "2021-07-20T08:21:58.082213Z",
     "shell.execute_reply": "2021-07-20T08:21:58.082752Z",
     "shell.execute_reply.started": "2021-07-20T08:03:20.781995Z"
    },
    "papermill": {
     "duration": 1.214906,
     "end_time": "2021-07-20T08:21:58.082967",
     "exception": false,
     "start_time": "2021-07-20T08:21:56.868061",
     "status": "completed"
    },
    "tags": []
   },
   "outputs": [
    {
     "data": {
      "image/png": "[encoded data removed]",
      "text/plain": [
       "<Figure size 576x432 with 1 Axes>"
      ]
     },
     "metadata": {
      "needs_background": "light"
     },
     "output_type": "display_data"
    }
   ],
   "source": [
    "sns.histplot(df['white_rating'], label='White Rating', color='skyblue', kde=True)\n",
    "sns.histplot(df['black_rating'], label='White Rating', color='red', kde=True)\n",
    "plt.legend()\n",
    "plt.show()"
   ]
  },
  {
   "cell_type": "markdown",
   "id": "556bcd27",
   "metadata": {
    "papermill": {
     "duration": 0.027886,
     "end_time": "2021-07-20T08:21:58.140876",
     "exception": false,
     "start_time": "2021-07-20T08:21:58.112990",
     "status": "completed"
    },
    "tags": []
   },
   "source": [
    "### *White Rating and Black Rating both are normally distributed*"
   ]
  },
  {
   "cell_type": "code",
   "execution_count": 12,
   "id": "52a514dd",
   "metadata": {
    "execution": {
     "iopub.execute_input": "2021-07-20T08:21:58.205028Z",
     "iopub.status.busy": "2021-07-20T08:21:58.204285Z",
     "iopub.status.idle": "2021-07-20T08:21:58.209787Z",
     "shell.execute_reply": "2021-07-20T08:21:58.209208Z",
     "shell.execute_reply.started": "2021-07-20T08:03:21.999662Z"
    },
    "papermill": {
     "duration": 0.040364,
     "end_time": "2021-07-20T08:21:58.209958",
     "exception": false,
     "start_time": "2021-07-20T08:21:58.169594",
     "status": "completed"
    },
    "tags": []
   },
   "outputs": [
    {
     "name": "stdout",
     "output_type": "stream",
     "text": [
      "White Rating Mean 1596.6318675840064\n",
      "White Rating Median 1567.0\n",
      "Balck Rating Mean 1588.8319872370128\n",
      "Black Rating Median 1588.8319872370128\n"
     ]
    }
   ],
   "source": [
    "print(\"White Rating Mean\",df['white_rating'].mean())\n",
    "print(\"White Rating Median\",df['white_rating'].median())\n",
    "\n",
    "print(\"Balck Rating Mean\",df['black_rating'].mean())\n",
    "print(\"Black Rating Median\",df['black_rating'].mean())"
   ]
  },
  {
   "cell_type": "markdown",
   "id": "99c35704",
   "metadata": {
    "papermill": {
     "duration": 0.028387,
     "end_time": "2021-07-20T08:21:58.267194",
     "exception": false,
     "start_time": "2021-07-20T08:21:58.238807",
     "status": "completed"
    },
    "tags": []
   },
   "source": [
    "### Opening\n",
    "\n",
    "#### *A chess opening or simply an opening refers to the initial moves of a chess game. The term can refer to the initial moves by either side, White or Black, but an opening by Black may also be known as a defense. There are dozens of different openings, and hundreds of variants. The Oxford Companion to Chess lists 1,327 named openings and variants. These vary widely in character from quiet positional play to wild tactical play. In addition to referring to specific move sequences, the opening is the first phase of a chess game, the other phases being the middlegame and the endgame.*"
   ]
  },
  {
   "cell_type": "code",
   "execution_count": 13,
   "id": "9a004b14",
   "metadata": {
    "execution": {
     "iopub.execute_input": "2021-07-20T08:21:58.336791Z",
     "iopub.status.busy": "2021-07-20T08:21:58.336110Z",
     "iopub.status.idle": "2021-07-20T08:21:58.345273Z",
     "shell.execute_reply": "2021-07-20T08:21:58.344571Z",
     "shell.execute_reply.started": "2021-07-20T08:03:22.010341Z"
    },
    "papermill": {
     "duration": 0.048444,
     "end_time": "2021-07-20T08:21:58.345447",
     "exception": false,
     "start_time": "2021-07-20T08:21:58.297003",
     "status": "completed"
    },
    "tags": []
   },
   "outputs": [
    {
     "data": {
      "text/plain": [
       "Van't Kruijs Opening                                            368\n",
       "Sicilian Defense                                                358\n",
       "Sicilian Defense: Bowdler Attack                                296\n",
       "French Defense: Knight Variation                                271\n",
       "Scotch Game                                                     271\n",
       "                                                               ... \n",
       "Sicilian Defense: Najdorf Variation |  Polugaevsky Variation      1\n",
       "King's Gambit |  Falkbeer Countergambit |  Modern Transfer        1\n",
       "Tarrasch Defense: Classical Variation |  Carlsbad Variation       1\n",
       "Caro-Kann Defense: Classical Variation |  Lobron System           1\n",
       "Zukertort Opening: Wade Defense                                   1\n",
       "Name: opening_name, Length: 1477, dtype: int64"
      ]
     },
     "execution_count": 13,
     "metadata": {},
     "output_type": "execute_result"
    }
   ],
   "source": [
    "df['opening_name'].value_counts()"
   ]
  },
  {
   "cell_type": "markdown",
   "id": "d91c4bc6",
   "metadata": {
    "papermill": {
     "duration": 0.028582,
     "end_time": "2021-07-20T08:21:58.403172",
     "exception": false,
     "start_time": "2021-07-20T08:21:58.374590",
     "status": "completed"
    },
    "tags": []
   },
   "source": [
    "### Hence some example values are:\n",
    "\n",
    "****Van't Kruijs Opening****\n",
    "\n",
    "****Sicilian Defense: Bowdler Attack****\n",
    "\n",
    "****Queen's Gambit Accepted: Normal Variation |  Traditional System****\n",
    "\n",
    "****Pirc Defense: Classical Variation |  Quiet System |  Chigorin Line****"
   ]
  },
  {
   "cell_type": "code",
   "execution_count": 14,
   "id": "41f81d1f",
   "metadata": {
    "execution": {
     "iopub.execute_input": "2021-07-20T08:21:58.469263Z",
     "iopub.status.busy": "2021-07-20T08:21:58.468343Z",
     "iopub.status.idle": "2021-07-20T08:21:58.473603Z",
     "shell.execute_reply": "2021-07-20T08:21:58.472948Z",
     "shell.execute_reply.started": "2021-07-20T08:08:54.996359Z"
    },
    "papermill": {
     "duration": 0.041356,
     "end_time": "2021-07-20T08:21:58.473744",
     "exception": false,
     "start_time": "2021-07-20T08:21:58.432388",
     "status": "completed"
    },
    "tags": []
   },
   "outputs": [
    {
     "data": {
      "text/plain": [
       "0                      Slav Defense: Exchange Variation\n",
       "1                Nimzowitsch Defense: Kennedy Variation\n",
       "2                 King's Pawn Game: Leonardis Variation\n",
       "3                Queen's Pawn Game: Zukertort Variation\n",
       "4                                      Philidor Defense\n",
       "5                  Sicilian Defense: Mongoose Variation\n",
       "6            Blackmar-Diemer Gambit: Pietrowsky Defense\n",
       "7     Nimzowitsch Defense: Kennedy Variation |  Link...\n",
       "8                 Italian Game: Schilling-Kostic Gambit\n",
       "9         Scandinavian Defense: Mieses-Kotroc Variation\n",
       "10                                 Van't Kruijs Opening\n",
       "11    French Defense: Advance Variation |  Paulsen A...\n",
       "12                     French Defense: Knight Variation\n",
       "13                                    French Defense #2\n",
       "14                 Four Knights Game: Italian Variation\n",
       "15    Italian Game: Two Knights Defense |  Knight At...\n",
       "16                 Four Knights Game: Italian Variation\n",
       "17                 Four Knights Game: Italian Variation\n",
       "18                                  Philidor Defense #3\n",
       "19                                    Queen's Pawn Game\n",
       "Name: opening_name, dtype: object"
      ]
     },
     "execution_count": 14,
     "metadata": {},
     "output_type": "execute_result"
    }
   ],
   "source": [
    "df['opening_name'].head(20)"
   ]
  },
  {
   "cell_type": "markdown",
   "id": "797cb3df",
   "metadata": {
    "papermill": {
     "duration": 0.028928,
     "end_time": "2021-07-20T08:21:58.531606",
     "exception": false,
     "start_time": "2021-07-20T08:21:58.502678",
     "status": "completed"
    },
    "tags": []
   },
   "source": [
    "### *Here we can see we have some prety cominations of Opening moves, Lets see How many of them we have in total*"
   ]
  },
  {
   "cell_type": "code",
   "execution_count": 15,
   "id": "f118ce42",
   "metadata": {
    "execution": {
     "iopub.execute_input": "2021-07-20T08:21:58.595202Z",
     "iopub.status.busy": "2021-07-20T08:21:58.594569Z",
     "iopub.status.idle": "2021-07-20T08:21:58.624725Z",
     "shell.execute_reply": "2021-07-20T08:21:58.624126Z",
     "shell.execute_reply.started": "2021-07-20T08:12:15.556098Z"
    },
    "papermill": {
     "duration": 0.064375,
     "end_time": "2021-07-20T08:21:58.624863",
     "exception": false,
     "start_time": "2021-07-20T08:21:58.560488",
     "status": "completed"
    },
    "tags": []
   },
   "outputs": [
    {
     "data": {
      "text/plain": [
       "Sicilian Defense        2573\n",
       "French Defense          1306\n",
       "Queen's Pawn Game       1059\n",
       "Italian Game             981\n",
       "King's Pawn Game         917\n",
       "Ruy Lopez                858\n",
       "English Opening          720\n",
       "Scandinavian Defense     716\n",
       "Caro-Kann Defense        593\n",
       "Scotch Game              465\n",
       "Name: opening_name, dtype: int64"
      ]
     },
     "execution_count": 15,
     "metadata": {},
     "output_type": "execute_result"
    }
   ],
   "source": [
    "df['opening_name'].map(lambda x : x.split(\"|\")[0].split(\":\")[0]).value_counts().head(10)"
   ]
  },
  {
   "cell_type": "markdown",
   "id": "d895b05e",
   "metadata": {
    "papermill": {
     "duration": 0.028822,
     "end_time": "2021-07-20T08:21:58.682824",
     "exception": false,
     "start_time": "2021-07-20T08:21:58.654002",
     "status": "completed"
    },
    "tags": []
   },
   "source": [
    "### *Here We can see the top 3 Opening moves are*\n",
    "\n",
    "#### *Sicilian Defense*        \n",
    "#### *French Defense*          \n",
    "#### *Queen's Pawn Game*"
   ]
  },
  {
   "cell_type": "code",
   "execution_count": 16,
   "id": "f4521490",
   "metadata": {
    "execution": {
     "iopub.execute_input": "2021-07-20T08:21:58.756964Z",
     "iopub.status.busy": "2021-07-20T08:21:58.756106Z",
     "iopub.status.idle": "2021-07-20T08:21:58.761214Z",
     "shell.execute_reply": "2021-07-20T08:21:58.760592Z",
     "shell.execute_reply.started": "2021-07-20T08:17:45.508196Z"
    },
    "papermill": {
     "duration": 0.048745,
     "end_time": "2021-07-20T08:21:58.761353",
     "exception": false,
     "start_time": "2021-07-20T08:21:58.712608",
     "status": "completed"
    },
    "tags": []
   },
   "outputs": [
    {
     "data": {
      "text/plain": [
       "4    171\n",
       "2    151\n",
       "3     20\n",
       "5     16\n",
       "Name: opening_ply, dtype: int64"
      ]
     },
     "execution_count": 16,
     "metadata": {},
     "output_type": "execute_result"
    }
   ],
   "source": [
    "df[df['opening_name']=='Sicilian Defense']['opening_ply'].value_counts()"
   ]
  },
  {
   "cell_type": "markdown",
   "id": "cf73420f",
   "metadata": {
    "papermill": {
     "duration": 0.030063,
     "end_time": "2021-07-20T08:21:58.821202",
     "exception": false,
     "start_time": "2021-07-20T08:21:58.791139",
     "status": "completed"
    },
    "tags": []
   },
   "source": [
    "#### *opening_ply is an interesting field because it states to how many moves the studied opening line holds. For example, note that in the follow 5-ply Sicilian Defense games, the opening sequence is always e4 c5 Nf3 d6 d4.*"
   ]
  },
  {
   "cell_type": "code",
   "execution_count": 17,
   "id": "c7e85132",
   "metadata": {
    "execution": {
     "iopub.execute_input": "2021-07-20T08:21:58.892742Z",
     "iopub.status.busy": "2021-07-20T08:21:58.889662Z",
     "iopub.status.idle": "2021-07-20T08:21:58.913683Z",
     "shell.execute_reply": "2021-07-20T08:21:58.914190Z",
     "shell.execute_reply.started": "2021-07-20T08:19:45.838336Z"
    },
    "papermill": {
     "duration": 0.063318,
     "end_time": "2021-07-20T08:21:58.914375",
     "exception": false,
     "start_time": "2021-07-20T08:21:58.851057",
     "status": "completed"
    },
    "tags": []
   },
   "outputs": [
    {
     "data": {
      "text/html": [
       "<div>\n",
       "<style scoped>\n",
       "    .dataframe tbody tr th:only-of-type {\n",
       "        vertical-align: middle;\n",
       "    }\n",
       "\n",
       "    .dataframe tbody tr th {\n",
       "        vertical-align: top;\n",
       "    }\n",
       "\n",
       "    .dataframe thead th {\n",
       "        text-align: right;\n",
       "    }\n",
       "</style>\n",
       "<table border=\"1\" class=\"dataframe\">\n",
       "  <thead>\n",
       "    <tr style=\"text-align: right;\">\n",
       "      <th></th>\n",
       "      <th>id</th>\n",
       "      <th>rated</th>\n",
       "      <th>created_at</th>\n",
       "      <th>last_move_at</th>\n",
       "      <th>turns</th>\n",
       "      <th>victory_status</th>\n",
       "      <th>winner</th>\n",
       "      <th>increment_code</th>\n",
       "      <th>white_id</th>\n",
       "      <th>white_rating</th>\n",
       "      <th>black_id</th>\n",
       "      <th>black_rating</th>\n",
       "      <th>moves</th>\n",
       "      <th>opening_eco</th>\n",
       "      <th>opening_name</th>\n",
       "      <th>opening_ply</th>\n",
       "    </tr>\n",
       "  </thead>\n",
       "  <tbody>\n",
       "    <tr>\n",
       "      <th>270</th>\n",
       "      <td>PEIWrbTQ</td>\n",
       "      <td>True</td>\n",
       "      <td>1.471100e+12</td>\n",
       "      <td>1.471100e+12</td>\n",
       "      <td>29</td>\n",
       "      <td>mate</td>\n",
       "      <td>white</td>\n",
       "      <td>7+3</td>\n",
       "      <td>eideral</td>\n",
       "      <td>1513</td>\n",
       "      <td>atorius</td>\n",
       "      <td>1456</td>\n",
       "      <td>e4 c5 Nf3 d6 d4 Nc6 Bb5 a6 Bxc6+ bxc6 dxc5 Qa5...</td>\n",
       "      <td>B54</td>\n",
       "      <td>Sicilian Defense</td>\n",
       "      <td>5</td>\n",
       "    </tr>\n",
       "    <tr>\n",
       "      <th>4546</th>\n",
       "      <td>nxDsrrWl</td>\n",
       "      <td>True</td>\n",
       "      <td>1.479670e+12</td>\n",
       "      <td>1.479670e+12</td>\n",
       "      <td>37</td>\n",
       "      <td>resign</td>\n",
       "      <td>white</td>\n",
       "      <td>0+15</td>\n",
       "      <td>drawmeister2015</td>\n",
       "      <td>2013</td>\n",
       "      <td>jopeshdamaster</td>\n",
       "      <td>1773</td>\n",
       "      <td>e4 c5 Nf3 d6 d4 Nc6 dxc5 dxc5 Qxd8+ Nxd8 Bb5+ ...</td>\n",
       "      <td>B54</td>\n",
       "      <td>Sicilian Defense</td>\n",
       "      <td>5</td>\n",
       "    </tr>\n",
       "    <tr>\n",
       "      <th>5278</th>\n",
       "      <td>btRX748K</td>\n",
       "      <td>True</td>\n",
       "      <td>1.463630e+12</td>\n",
       "      <td>1.463630e+12</td>\n",
       "      <td>67</td>\n",
       "      <td>outoftime</td>\n",
       "      <td>white</td>\n",
       "      <td>10+0</td>\n",
       "      <td>reneesh</td>\n",
       "      <td>1709</td>\n",
       "      <td>evan_h1234</td>\n",
       "      <td>1334</td>\n",
       "      <td>e4 c5 Nf3 d6 d4 Nc6 Bb5 Bd7 d5 Nb4 Bxd7+ Qxd7 ...</td>\n",
       "      <td>B54</td>\n",
       "      <td>Sicilian Defense</td>\n",
       "      <td>5</td>\n",
       "    </tr>\n",
       "  </tbody>\n",
       "</table>\n",
       "</div>"
      ],
      "text/plain": [
       "            id  rated    created_at  last_move_at  turns victory_status  \\\n",
       "270   PEIWrbTQ   True  1.471100e+12  1.471100e+12     29           mate   \n",
       "4546  nxDsrrWl   True  1.479670e+12  1.479670e+12     37         resign   \n",
       "5278  btRX748K   True  1.463630e+12  1.463630e+12     67      outoftime   \n",
       "\n",
       "     winner increment_code         white_id  white_rating        black_id  \\\n",
       "270   white            7+3          eideral          1513         atorius   \n",
       "4546  white           0+15  drawmeister2015          2013  jopeshdamaster   \n",
       "5278  white           10+0          reneesh          1709      evan_h1234   \n",
       "\n",
       "      black_rating                                              moves  \\\n",
       "270           1456  e4 c5 Nf3 d6 d4 Nc6 Bb5 a6 Bxc6+ bxc6 dxc5 Qa5...   \n",
       "4546          1773  e4 c5 Nf3 d6 d4 Nc6 dxc5 dxc5 Qxd8+ Nxd8 Bb5+ ...   \n",
       "5278          1334  e4 c5 Nf3 d6 d4 Nc6 Bb5 Bd7 d5 Nb4 Bxd7+ Qxd7 ...   \n",
       "\n",
       "     opening_eco      opening_name  opening_ply  \n",
       "270          B54  Sicilian Defense            5  \n",
       "4546         B54  Sicilian Defense            5  \n",
       "5278         B54  Sicilian Defense            5  "
      ]
     },
     "execution_count": 17,
     "metadata": {},
     "output_type": "execute_result"
    }
   ],
   "source": [
    "df[((df['opening_name'] == 'Sicilian Defense') & (df['opening_ply'] == 5))].head(3)"
   ]
  },
  {
   "cell_type": "markdown",
   "id": "b562b848",
   "metadata": {
    "execution": {
     "iopub.execute_input": "2021-07-20T08:19:51.820344Z",
     "iopub.status.busy": "2021-07-20T08:19:51.819994Z",
     "iopub.status.idle": "2021-07-20T08:19:51.828020Z",
     "shell.execute_reply": "2021-07-20T08:19:51.826830Z",
     "shell.execute_reply.started": "2021-07-20T08:19:51.820315Z"
    },
    "papermill": {
     "duration": 0.030522,
     "end_time": "2021-07-20T08:21:58.975922",
     "exception": false,
     "start_time": "2021-07-20T08:21:58.945400",
     "status": "completed"
    },
    "tags": []
   },
   "source": [
    "#### *ply is a term from game theory. A single ply is an identifiable unit of play which shifts the game's decision tree. In chess, this is every single move, that is, every time a piece is moved and the turn is passed to another player.*\n",
    "\n",
    "#### *Algebraic notation is a format for describing a sequence of chess moves. In algebraic notation the board is divided into a grid, of ascending letters and numbers. Every piece besides the pawn gets a letter. So for example e4 c5 Nf3 means \"white pawn to e4, then black pawn to c5, then white knight to f3. And so on.*"
   ]
  },
  {
   "cell_type": "code",
   "execution_count": null,
   "id": "3801af8a",
   "metadata": {
    "papermill": {
     "duration": 0.029764,
     "end_time": "2021-07-20T08:21:59.036661",
     "exception": false,
     "start_time": "2021-07-20T08:21:59.006897",
     "status": "completed"
    },
    "tags": []
   },
   "outputs": [],
   "source": []
  },
  {
   "cell_type": "code",
   "execution_count": null,
   "id": "d380154d",
   "metadata": {
    "papermill": {
     "duration": 0.029579,
     "end_time": "2021-07-20T08:21:59.096518",
     "exception": false,
     "start_time": "2021-07-20T08:21:59.066939",
     "status": "completed"
    },
    "tags": []
   },
   "outputs": [],
   "source": []
  }
 ],
 "metadata": {
  "kernelspec": {
   "display_name": "Python 3",
   "language": "python",
   "name": "python3"
  },
  "language_info": {
   "codemirror_mode": {
    "name": "ipython",
    "version": 3
   },
   "file_extension": ".py",
   "mimetype": "text/x-python",
   "name": "python",
   "nbconvert_exporter": "python",
   "pygments_lexer": "ipython3",
   "version": "3.7.10"
  },
  "papermill": {
   "default_parameters": {},
   "duration": 14.758484,
   "end_time": "2021-07-20T08:22:00.695851",
   "environment_variables": {},
   "exception": null,
   "input_path": "__notebook__.ipynb",
   "output_path": "__notebook__.ipynb",
   "parameters": {},
   "start_time": "2021-07-20T08:21:45.937367",
   "version": "2.3.3"
  }
 },
 "nbformat": 4,
 "nbformat_minor": 5
}
